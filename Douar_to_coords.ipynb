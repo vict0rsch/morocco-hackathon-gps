{
 "cells": [
  {
   "cell_type": "code",
   "execution_count": null,
   "metadata": {},
   "outputs": [],
   "source": [
    "import concurrent\n",
    "import os\n",
    "from collections import Counter\n",
    "from concurrent.futures import ThreadPoolExecutor\n",
    "from pathlib import Path\n",
    "from textwrap import dedent\n",
    "import googlemaps\n",
    "import pandas as pd\n",
    "from geopy.distance import distance as geo_distance\n",
    "from tqdm.notebook import tqdm"
   ]
  },
  {
   "cell_type": "code",
   "execution_count": null,
   "metadata": {},
   "outputs": [],
   "source": [
    "def api_key():\n",
    "    if \"GOOGLE_MAPS_API_KEY\" in os.environ:\n",
    "        return os.environ[\"GOOGLE_MAPS_API_KEY\"]\n",
    "\n",
    "    api_key_file = Path(__file__).parent / \"google_maps_api.key\"\n",
    "    if api_key_file.exists():\n",
    "        with api_key_file.open(\"r\") as f:\n",
    "            return f.read().strip()\n",
    "\n",
    "    raise ValueError(\n",
    "        dedent(\n",
    "            \"\"\"No Google Maps API key found. Please set it in the environment variable\n",
    "        GOOGLE_MAPS_API_KEY or in a file named google_maps_api.key in the same\n",
    "        directory as this script.\"\"\"\n",
    "        )\n",
    "    )"
   ]
  },
  {
   "cell_type": "code",
   "execution_count": 2,
   "metadata": {},
   "outputs": [],
   "source": [
    "def summarize(candidates):\n",
    "    # Print a summary of all the candidate results by the Google Maps API\n",
    "    # to debug / improve the matching method (`geocode_filter`)\n",
    "\n",
    "    print(f\"\\nNumber of candidates: {len(candidates)}\\n\\n----\\n\")\n",
    "\n",
    "    for cand in candidates:\n",
    "        print(\n",
    "            \"• Components:\\n  \"\n",
    "            + \", \".join(\n",
    "                f'{c[\"long_name\"]} ({\", \".join(c[\"types\"])})'\n",
    "                for c in cand[\"address_components\"]\n",
    "            )\n",
    "        )\n",
    "        print(\"• Formatted address:\\n  \" + cand[\"formatted_address\"])\n",
    "        print(\n",
    "            \"• GPS:\\n \"\n",
    "            + f'{cand[\"geometry\"][\"location\"][\"lat\"]}, {cand[\"geometry\"][\"location\"][\"lng\"]}'\n",
    "        )\n",
    "        print(\"\\n----\\n\")\n",
    "    for c, cand1 in enumerate(candidates):\n",
    "        for j in range(c):\n",
    "            cand2 = candidates[j]\n",
    "            dist = geo_distance(\n",
    "                (\n",
    "                    cand1[\"geometry\"][\"location\"][\"lat\"],\n",
    "                    cand1[\"geometry\"][\"location\"][\"lng\"],\n",
    "                ),\n",
    "                (\n",
    "                    cand2[\"geometry\"][\"location\"][\"lat\"],\n",
    "                    cand2[\"geometry\"][\"location\"][\"lng\"],\n",
    "                ),\n",
    "            )\n",
    "            print(f\"Direct distance {j}<>{c} : {dist.km:.2f}km\")"
   ]
  },
  {
   "cell_type": "code",
   "execution_count": 3,
   "metadata": {},
   "outputs": [],
   "source": [
    "def parallel_map(f, my_iter, results, workers=5):\n",
    "    # Map the function f over the iterable my_iter using multiple threads (workers).\n",
    "    # Results of the computation are sored in results which should be a dict as:\n",
    "    # \n",
    "    # ```\n",
    "    # for item in my_iter:\n",
    "    #     results[item] = f(item)\n",
    "    # ```\n",
    "    # \n",
    "    # In particular, item should be hashable (typically an int or a str).\n",
    "\n",
    "    if workers < 2:\n",
    "        return [f(i) for i in tqdm(my_iter)]\n",
    "    l = len(my_iter)\n",
    "    with tqdm(total=l) as pbar:\n",
    "        # let's give it some more threads:\n",
    "        with ThreadPoolExecutor(max_workers=workers) as executor:\n",
    "            futures = {executor.submit(f, arg): arg for arg in my_iter}\n",
    "            for future in concurrent.futures.as_completed(futures):\n",
    "                arg = futures[future]\n",
    "                results[arg] = future.result()\n",
    "                pbar.update(1)"
   ]
  },
  {
   "cell_type": "code",
   "execution_count": 16,
   "metadata": {},
   "outputs": [],
   "source": [
    "def geocode_filter(address):\n",
    "    # query Google Maps\n",
    "    address = address.split(\"--\")[-1]\n",
    "    geocodes = gmaps.geocode(address)\n",
    "\n",
    "    # split address \n",
    "    parts = address.split(\", \")\n",
    "    parts = parts[0].split(\" \") + parts[1:]\n",
    "    # store address parts as a dict: part -> index_in_parts\n",
    "    # for instance: parts[\"Casablanca\"] -> 0 in 'Casablaca, Morocco' \n",
    "    parts = {a: i for i, a in enumerate(parts)}\n",
    "\n",
    "    # Find the best match: the lower the rank, the more precise the result\n",
    "    # so we look for the lowest rank assuming the more precise result.\n",
    "    ranks = []\n",
    "    for gc in geocodes:\n",
    "        ranks.append(min([\n",
    "            min([\n",
    "                parts.get(c[\"short_name\"], len(parts)), parts.get(c[\"long_name\"], len(parts))\n",
    "            ]) # find earliest index in the address for this address component\n",
    "            for c in gc[\"address_components\"] if \"plus_code\" not in c[\"types\"]\n",
    "        ])) # find earliest index in the address across address components\n",
    "    \n",
    "    # find Google Maps result with minimal rank\n",
    "    min_rank = min(ranks) \n",
    "\n",
    "    # select all results with minimal rank (hopefully only one)\n",
    "    selected_codes = [geocodes[k] for k, r in enumerate(ranks) if r == min_rank]\n",
    "    if len(selected_codes) == 1:\n",
    "        return selected_codes\n",
    "\n",
    "    # more than 1 results have the same lowest rank\n",
    "    \n",
    "    # compute distances ; if the distance between all results is <1km, assume it's the same place\n",
    "    lat_longs = [\n",
    "        (gc[\"geometry\"][\"location\"][\"lat\"], gc[\"geometry\"][\"location\"][\"lng\"]) \n",
    "        for gc in selected_codes\n",
    "    ]\n",
    "    if all(geo_distance(ll1, ll2).km < 1 for ll1 in lat_longs for ll2 in lat_longs):\n",
    "        return selected_codes[:1]\n",
    "    \n",
    "    # distances are larger than 1km\n",
    "    \n",
    "    # favour the results with a \"locality\" entry, even if they have the same lowest rank\n",
    "    candidate_codes = [\n",
    "        gc for gc in selected_codes if any(\"locality\" in c[\"types\"] for c in gc[\"address_components\"])\n",
    "    ]\n",
    "    \n",
    "    if candidate_codes:\n",
    "        # candidate codes could be empty at this point\n",
    "        selected_codes = candidate_codes\n",
    "\n",
    "    # count total address components\n",
    "    n_matches = [len(gc[\"address_components\"]) for gc in selected_codes]\n",
    "    max_matches = max(n_matches)\n",
    "    # assume more components <=> more precision => prefer those ones\n",
    "    selected_codes = [selected_codes[k] for k, m in enumerate(n_matches) if m == max_matches]\n",
    "    \n",
    "    # if for some reason there is not item in selected_codes,\n",
    "    # default to returning the initial results\n",
    "    return selected_codes or geocodes\n",
    "        "
   ]
  },
  {
   "cell_type": "code",
   "execution_count": 17,
   "metadata": {},
   "outputs": [
    {
     "data": {
      "application/vnd.jupyter.widget-view+json": {
       "model_id": "433576b77add42fab98ec346323f2ef0",
       "version_major": 2,
       "version_minor": 0
      },
      "text/plain": [
       "  0%|          | 0/6980 [00:00<?, ?it/s]"
      ]
     },
     "metadata": {},
     "output_type": "display_data"
    }
   ],
   "source": [
    "df = pd.read_excel(\"listes-localités.xlsx\")\n",
    "gmaps = googlemaps.Client(key=api_key())\n",
    "\n",
    "# transform the dataframe columns in a single Google Maps query\n",
    "df[\"query\"] = df.apply(\n",
    "    lambda x: f\"{x.name}--{x['nom_fr']} {x['nom_ar']}, {x['commune_fr']}, {x['cercle_fr']}, {x['province_fr']}, {x['region_fr']}, Morocco\",\n",
    "    axis=1,\n",
    ")\n",
    "results = {}\n",
    "parallel_map(geocode_filter, df[\"query\"].values, results, workers=10)"
   ]
  },
  {
   "cell_type": "code",
   "execution_count": 18,
   "metadata": {},
   "outputs": [
    {
     "name": "stdout",
     "output_type": "stream",
     "text": [
      "Number of addresses with 1 matches: 6676\n",
      "Number of addresses with 2 matches: 283\n",
      "Number of addresses with 3 matches: 20\n",
      "Number of addresses with 4 matches: 1\n"
     ]
    }
   ],
   "source": [
    "counter = Counter([len(r) for r in results.values()])\n",
    "matches = sorted(counter.keys())\n",
    "for m in matches:\n",
    "    print(f\"Number of addresses with {m} matches: {counter[m]}\")\n",
    "    "
   ]
  },
  {
   "cell_type": "code",
   "execution_count": 19,
   "metadata": {},
   "outputs": [
    {
     "name": "stdout",
     "output_type": "stream",
     "text": [
      "2539--Ait Aamer أيت أعمر, Oukaimden, Tahannaout, Al Haouz, Marrakech-Safi, Morocco\n",
      "\n",
      "Number of candidates: 3\n",
      "\n",
      "----\n",
      "\n",
      "• Components:\n",
      "  Tahnaout (locality, political), Al Haouz (administrative_area_level_2, political), Marrakesh-Safi (administrative_area_level_1, political), Morocco (country, political)\n",
      "• Formatted address:\n",
      "  Tahnaout, Morocco\n",
      "• GPS:\n",
      " 31.354702, -7.9505308\n",
      "\n",
      "----\n",
      "\n",
      "• Components:\n",
      "  Oukaimeden (locality, political), Al Haouz (administrative_area_level_2, political), Marrakesh-Safi (administrative_area_level_1, political), Morocco (country, political)\n",
      "• Formatted address:\n",
      "  Oukaimeden, Morocco\n",
      "• GPS:\n",
      " 31.2026742, -7.858556199999999\n",
      "\n",
      "----\n",
      "\n",
      "• Components:\n",
      "  Ait Aamer (locality, political), Al Haouz (administrative_area_level_2, political), Marrakech-Safi (administrative_area_level_1, political), Morocco (country, political)\n",
      "• Formatted address:\n",
      "  Ait Aamer, Morocco\n",
      "• GPS:\n",
      " 31.5356511, -7.344473000000001\n",
      "\n",
      "----\n",
      "\n",
      "Direct distance 0<>1 : 19.00km\n",
      "Direct distance 0<>2 : 61.00km\n",
      "Direct distance 1<>2 : 61.28km\n"
     ]
    }
   ],
   "source": [
    "# Print the address query and a summary of the matched results.\n",
    "\n",
    "stop_iter = 5\n",
    "n_matches_target = 3\n",
    "# Print summary for the `stop_iter`-th item with `n_matches_target` candidates\n",
    "\n",
    "n_with_target = 0\n",
    "for k, (a, r) in enumerate(results.items()):\n",
    "    if len(r) == n_matches_target:\n",
    "        n_with_target += 1\n",
    "    if n_with_target >= stop_iter:\n",
    "        break\n",
    "print(a)\n",
    "summarize(r)"
   ]
  },
  {
   "cell_type": "code",
   "execution_count": 35,
   "metadata": {},
   "outputs": [],
   "source": [
    "results_list = sorted(results.items(), key=lambda r: int(r[0].split(\"--\")[0]))\n",
    "results_list = [r[1] for r in results_list]\n",
    "gps_locs = [\n",
    "    \" | \".join(\n",
    "        f\"({r['geometry']['location']['lat']:.7f}, {r['geometry']['location']['lng']:.7f})\"\n",
    "        for r in candidates\n",
    "    ) \n",
    "    for candidates in results_list\n",
    "]"
   ]
  },
  {
   "cell_type": "code",
   "execution_count": 44,
   "metadata": {},
   "outputs": [],
   "source": [
    "df[\"Google Maps query\"] = df[\"query\"].apply(lambda x: x.split(\"--\")[-1])\n",
    "df = df.drop(columns=[\"query\"])\n",
    "df[\"gps\"] = gps_locs"
   ]
  },
  {
   "cell_type": "code",
   "execution_count": 45,
   "metadata": {},
   "outputs": [],
   "source": [
    "df.to_excel(\"listes-localités-gps.xlsx\")"
   ]
  },
  {
   "cell_type": "code",
   "execution_count": null,
   "metadata": {},
   "outputs": [],
   "source": []
  }
 ],
 "metadata": {
  "kernelspec": {
   "display_name": "Python 3 (ipykernel)",
   "language": "python",
   "name": "python3"
  },
  "language_info": {
   "codemirror_mode": {
    "name": "ipython",
    "version": 3
   },
   "file_extension": ".py",
   "mimetype": "text/x-python",
   "name": "python",
   "nbconvert_exporter": "python",
   "pygments_lexer": "ipython3",
   "version": "3.9.2"
  }
 },
 "nbformat": 4,
 "nbformat_minor": 2
}
